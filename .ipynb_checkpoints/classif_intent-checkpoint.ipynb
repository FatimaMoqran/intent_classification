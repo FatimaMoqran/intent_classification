{
 "cells": [
  {
   "cell_type": "code",
   "execution_count": 2,
   "metadata": {},
   "outputs": [],
   "source": [
    "import pandas as pd\n"
   ]
  },
  {
   "cell_type": "code",
   "execution_count": 110,
   "metadata": {},
   "outputs": [],
   "source": [
    "from sklearn.feature_extraction.text import TfidfVectorizer\n",
    "from sklearn.model_selection import train_test_split\n",
    "from sklearn.feature_extraction.text import CountVectorizer\n",
    "from sklearn.feature_extraction.text import TfidfTransformer\n",
    "from sklearn.naive_bayes import MultinomialNB\n",
    "from sklearn.svm import LinearSVC\n"
   ]
  },
  {
   "cell_type": "code",
   "execution_count": 88,
   "metadata": {},
   "outputs": [
    {
     "name": "stderr",
     "output_type": "stream",
     "text": [
      "[nltk_data] Downloading package punkt to\n",
      "[nltk_data]     C:\\Users\\gbjs0748\\AppData\\Roaming\\nltk_data...\n",
      "[nltk_data]   Package punkt is already up-to-date!\n",
      "[nltk_data] Downloading package stopwords to\n",
      "[nltk_data]     C:\\Users\\gbjs0748\\AppData\\Roaming\\nltk_data...\n",
      "[nltk_data]   Package stopwords is already up-to-date!\n",
      "[nltk_data] Downloading package wordnet to\n",
      "[nltk_data]     C:\\Users\\gbjs0748\\AppData\\Roaming\\nltk_data...\n",
      "[nltk_data]   Package wordnet is already up-to-date!\n"
     ]
    },
    {
     "data": {
      "text/plain": [
       "True"
      ]
     },
     "execution_count": 88,
     "metadata": {},
     "output_type": "execute_result"
    }
   ],
   "source": [
    "import nltk\n",
    "from nltk.stem import WordNetLemmatizer\n",
    "from nltk import word_tokenize\n",
    "from nltk.corpus import stopwords\n",
    "from nltk.stem.snowball import FrenchStemmer\n",
    "nltk.download('punkt')\n",
    "nltk.download('stopwords')\n",
    "nltk.download('wordnet')"
   ]
  },
  {
   "cell_type": "code",
   "execution_count": 21,
   "metadata": {},
   "outputs": [],
   "source": [
    "#read dataset\n",
    "df = pd.read_csv('intent.csv',encoding= 'latin1',sep=';')"
   ]
  },
  {
   "cell_type": "code",
   "execution_count": 22,
   "metadata": {},
   "outputs": [
    {
     "data": {
      "text/html": [
       "<div>\n",
       "<style scoped>\n",
       "    .dataframe tbody tr th:only-of-type {\n",
       "        vertical-align: middle;\n",
       "    }\n",
       "\n",
       "    .dataframe tbody tr th {\n",
       "        vertical-align: top;\n",
       "    }\n",
       "\n",
       "    .dataframe thead th {\n",
       "        text-align: right;\n",
       "    }\n",
       "</style>\n",
       "<table border=\"1\" class=\"dataframe\">\n",
       "  <thead>\n",
       "    <tr style=\"text-align: right;\">\n",
       "      <th></th>\n",
       "      <th>phrases</th>\n",
       "      <th>intention</th>\n",
       "      <th>class</th>\n",
       "    </tr>\n",
       "  </thead>\n",
       "  <tbody>\n",
       "    <tr>\n",
       "      <td>0</td>\n",
       "      <td>activer un renvoi d'appel</td>\n",
       "      <td>renvoi d'appel</td>\n",
       "      <td>1</td>\n",
       "    </tr>\n",
       "    <tr>\n",
       "      <td>1</td>\n",
       "      <td>demande à djingo pro de renvoyer les appels</td>\n",
       "      <td>renvoi d'appel</td>\n",
       "      <td>1</td>\n",
       "    </tr>\n",
       "    <tr>\n",
       "      <td>2</td>\n",
       "      <td>de renvoyer les appels</td>\n",
       "      <td>renvoi d'appel</td>\n",
       "      <td>1</td>\n",
       "    </tr>\n",
       "    <tr>\n",
       "      <td>3</td>\n",
       "      <td>aide moi à renvoyer mes appels</td>\n",
       "      <td>renvoi d'appel</td>\n",
       "      <td>1</td>\n",
       "    </tr>\n",
       "    <tr>\n",
       "      <td>4</td>\n",
       "      <td>je veux renvoyer mes appels</td>\n",
       "      <td>renvoi d'appel</td>\n",
       "      <td>1</td>\n",
       "    </tr>\n",
       "  </tbody>\n",
       "</table>\n",
       "</div>"
      ],
      "text/plain": [
       "                                       phrases       intention  class\n",
       "0                    activer un renvoi d'appel  renvoi d'appel      1\n",
       "1  demande à djingo pro de renvoyer les appels  renvoi d'appel      1\n",
       "2                       de renvoyer les appels  renvoi d'appel      1\n",
       "3               aide moi à renvoyer mes appels  renvoi d'appel      1\n",
       "4                  je veux renvoyer mes appels  renvoi d'appel      1"
      ]
     },
     "execution_count": 22,
     "metadata": {},
     "output_type": "execute_result"
    }
   ],
   "source": [
    "df.head()"
   ]
  },
  {
   "cell_type": "code",
   "execution_count": 24,
   "metadata": {},
   "outputs": [
    {
     "data": {
      "text/plain": [
       "Index(['phrases', 'intention', 'class'], dtype='object')"
      ]
     },
     "execution_count": 24,
     "metadata": {},
     "output_type": "execute_result"
    }
   ],
   "source": [
    "#new df with only 2 columns\n",
    "df.columns"
   ]
  },
  {
   "cell_type": "code",
   "execution_count": 25,
   "metadata": {},
   "outputs": [
    {
     "data": {
      "text/plain": [
       "['phrases', 'intention', 'class']"
      ]
     },
     "execution_count": 25,
     "metadata": {},
     "output_type": "execute_result"
    }
   ],
   "source": [
    "df.columns.tolist()"
   ]
  },
  {
   "cell_type": "code",
   "execution_count": 26,
   "metadata": {},
   "outputs": [
    {
     "data": {
      "text/plain": [
       "0                       activer un renvoi d'appel\n",
       "1     demande à djingo pro de renvoyer les appels\n",
       "2                          de renvoyer les appels\n",
       "3                  aide moi à renvoyer mes appels\n",
       "4                     je veux renvoyer mes appels\n",
       "5                               Renvoi mes appels\n",
       "6                      Renvoi mes appels vers le \n",
       "7       je veux que tu renvoi mes appels vers le \n",
       "8      je veux que tu renvoi mes appels vers mon \n",
       "9                     renvoi mes appels vers mon \n",
       "10            je veux annuler les renvoi d appels\n",
       "11             je veux annuler le renvoi d appels\n",
       "12               annule les renvois de mes appels\n",
       "13                  annule les renvois des appels\n",
       "14                    annule les renvois d appels\n",
       "15                 Annule le renvoi de mes appels\n",
       "16         je souhaite annuler le renvoi d'appels\n",
       "17                         annule renvoi d'appels\n",
       "18                     annule mon renvoi d'appels\n",
       "19                      annule le renvoi d'appels\n",
       "20            je veux annuler mon renvoi d'appels\n",
       "21                                 je suis revenu\n",
       "22                                      de retour\n",
       "23                                 je suis rentré\n",
       "24                              je suis de retour\n",
       "25                           de retour au bureau \n",
       "26                                     je suis là\n",
       "27                                je suis déjà là\n",
       "Name: phrases, dtype: object"
      ]
     },
     "execution_count": 26,
     "metadata": {},
     "output_type": "execute_result"
    }
   ],
   "source": [
    "df['phrases']"
   ]
  },
  {
   "cell_type": "code",
   "execution_count": 27,
   "metadata": {},
   "outputs": [],
   "source": [
    "df_intents = df[['phrases','class']]"
   ]
  },
  {
   "cell_type": "code",
   "execution_count": 28,
   "metadata": {},
   "outputs": [
    {
     "data": {
      "text/html": [
       "<div>\n",
       "<style scoped>\n",
       "    .dataframe tbody tr th:only-of-type {\n",
       "        vertical-align: middle;\n",
       "    }\n",
       "\n",
       "    .dataframe tbody tr th {\n",
       "        vertical-align: top;\n",
       "    }\n",
       "\n",
       "    .dataframe thead th {\n",
       "        text-align: right;\n",
       "    }\n",
       "</style>\n",
       "<table border=\"1\" class=\"dataframe\">\n",
       "  <thead>\n",
       "    <tr style=\"text-align: right;\">\n",
       "      <th></th>\n",
       "      <th>phrases</th>\n",
       "      <th>class</th>\n",
       "    </tr>\n",
       "  </thead>\n",
       "  <tbody>\n",
       "    <tr>\n",
       "      <td>0</td>\n",
       "      <td>activer un renvoi d'appel</td>\n",
       "      <td>1</td>\n",
       "    </tr>\n",
       "    <tr>\n",
       "      <td>1</td>\n",
       "      <td>demande à djingo pro de renvoyer les appels</td>\n",
       "      <td>1</td>\n",
       "    </tr>\n",
       "    <tr>\n",
       "      <td>2</td>\n",
       "      <td>de renvoyer les appels</td>\n",
       "      <td>1</td>\n",
       "    </tr>\n",
       "    <tr>\n",
       "      <td>3</td>\n",
       "      <td>aide moi à renvoyer mes appels</td>\n",
       "      <td>1</td>\n",
       "    </tr>\n",
       "    <tr>\n",
       "      <td>4</td>\n",
       "      <td>je veux renvoyer mes appels</td>\n",
       "      <td>1</td>\n",
       "    </tr>\n",
       "  </tbody>\n",
       "</table>\n",
       "</div>"
      ],
      "text/plain": [
       "                                       phrases  class\n",
       "0                    activer un renvoi d'appel      1\n",
       "1  demande à djingo pro de renvoyer les appels      1\n",
       "2                       de renvoyer les appels      1\n",
       "3               aide moi à renvoyer mes appels      1\n",
       "4                  je veux renvoyer mes appels      1"
      ]
     },
     "execution_count": 28,
     "metadata": {},
     "output_type": "execute_result"
    }
   ],
   "source": [
    "df_intents.head()"
   ]
  },
  {
   "cell_type": "code",
   "execution_count": null,
   "metadata": {},
   "outputs": [],
   "source": []
  },
  {
   "cell_type": "code",
   "execution_count": 33,
   "metadata": {},
   "outputs": [
    {
     "name": "stdout",
     "output_type": "stream",
     "text": [
      "0                     activer un renvoi d appel\n",
      "1     demande djingo pro de renvoyer les appels\n",
      "2                        de renvoyer les appels\n",
      "3                  aide moi renvoyer mes appels\n",
      "4                   je veux renvoyer mes appels\n",
      "5                             Renvoi mes appels\n",
      "6                     Renvoi mes appels vers le\n",
      "7      je veux que tu renvoi mes appels vers le\n",
      "8     je veux que tu renvoi mes appels vers mon\n",
      "9                    renvoi mes appels vers mon\n",
      "10          je veux annuler les renvoi d appels\n",
      "11           je veux annuler le renvoi d appels\n",
      "12             annule les renvois de mes appels\n",
      "13                annule les renvois des appels\n",
      "14                  annule les renvois d appels\n",
      "15               Annule le renvoi de mes appels\n",
      "16       je souhaite annuler le renvoi d appels\n",
      "17                       annule renvoi d appels\n",
      "18                   annule mon renvoi d appels\n",
      "19                    annule le renvoi d appels\n",
      "20          je veux annuler mon renvoi d appels\n",
      "21                               je suis revenu\n",
      "22                                    de retour\n",
      "23                                je suis rentr\n",
      "24                            je suis de retour\n",
      "25                          de retour au bureau\n",
      "26                                    je suis l\n",
      "27                                je suis d j l\n",
      "Name: phrases, dtype: object\n"
     ]
    }
   ],
   "source": [
    "#tokenisation\n",
    "phrases = df.phrases\n",
    "#remove all things but characters and space\n",
    "phrases = phrases.str.replace('[^A-z]',' ').str.replace(' +', ' ').str.strip()\n",
    "print(phrases)"
   ]
  },
  {
   "cell_type": "code",
   "execution_count": 37,
   "metadata": {},
   "outputs": [
    {
     "name": "stdout",
     "output_type": "stream",
     "text": [
      "['au', 'aux', 'avec', 'ce', 'ces', 'dans', 'de', 'des', 'du', 'elle', 'en', 'et', 'eux', 'il', 'ils', 'je', 'la', 'le', 'les', 'leur', 'lui', 'ma', 'mais', 'me', 'même', 'mes', 'moi', 'mon', 'ne', 'nos', 'notre', 'nous', 'on', 'ou', 'par', 'pas', 'pour', 'qu', 'que', 'qui', 'sa', 'se', 'ses', 'son', 'sur', 'ta', 'te', 'tes', 'toi', 'ton', 'tu', 'un', 'une', 'vos', 'votre', 'vous', 'c', 'd', 'j', 'l', 'à', 'm', 'n', 's', 't', 'y', 'été', 'étée', 'étées', 'étés', 'étant', 'étante', 'étants', 'étantes', 'suis', 'es', 'est', 'sommes', 'êtes', 'sont', 'serai', 'seras', 'sera', 'serons', 'serez', 'seront', 'serais', 'serait', 'serions', 'seriez', 'seraient', 'étais', 'était', 'étions', 'étiez', 'étaient', 'fus', 'fut', 'fûmes', 'fûtes', 'furent', 'sois', 'soit', 'soyons', 'soyez', 'soient', 'fusse', 'fusses', 'fût', 'fussions', 'fussiez', 'fussent', 'ayant', 'ayante', 'ayantes', 'ayants', 'eu', 'eue', 'eues', 'eus', 'ai', 'as', 'avons', 'avez', 'ont', 'aurai', 'auras', 'aura', 'aurons', 'aurez', 'auront', 'aurais', 'aurait', 'aurions', 'auriez', 'auraient', 'avais', 'avait', 'avions', 'aviez', 'avaient', 'eut', 'eûmes', 'eûtes', 'eurent', 'aie', 'aies', 'ait', 'ayons', 'ayez', 'aient', 'eusse', 'eusses', 'eût', 'eussions', 'eussiez', 'eussent']\n"
     ]
    }
   ],
   "source": [
    "#remove stop words\n",
    "stopW = stopwords.words('french')\n",
    "print(stopW)"
   ]
  },
  {
   "cell_type": "code",
   "execution_count": 43,
   "metadata": {},
   "outputs": [],
   "source": [
    "#exclude stopswords\n",
    "df_intents['phrases_sans_stop_words'] = df_intents['phrases'].apply(lambda x: ' '.join([word for word in x.split() if word not in (stopW)]))\n",
    "#df = df.drop('phrases_sans_stop_wors') \n"
   ]
  },
  {
   "cell_type": "code",
   "execution_count": 56,
   "metadata": {},
   "outputs": [],
   "source": [
    "#df_intents = df_intents.drop('phrases_sans_stop_wors', axis = 1)"
   ]
  },
  {
   "cell_type": "code",
   "execution_count": 87,
   "metadata": {},
   "outputs": [
    {
     "data": {
      "text/html": [
       "<div>\n",
       "<style scoped>\n",
       "    .dataframe tbody tr th:only-of-type {\n",
       "        vertical-align: middle;\n",
       "    }\n",
       "\n",
       "    .dataframe tbody tr th {\n",
       "        vertical-align: top;\n",
       "    }\n",
       "\n",
       "    .dataframe thead th {\n",
       "        text-align: right;\n",
       "    }\n",
       "</style>\n",
       "<table border=\"1\" class=\"dataframe\">\n",
       "  <thead>\n",
       "    <tr style=\"text-align: right;\">\n",
       "      <th></th>\n",
       "      <th>phrases</th>\n",
       "      <th>class</th>\n",
       "      <th>phrases_sans_stop_words</th>\n",
       "    </tr>\n",
       "  </thead>\n",
       "  <tbody>\n",
       "    <tr>\n",
       "      <td>0</td>\n",
       "      <td>activer un renvoi d'appel</td>\n",
       "      <td>1</td>\n",
       "      <td>activer renvoi d'appel</td>\n",
       "    </tr>\n",
       "    <tr>\n",
       "      <td>1</td>\n",
       "      <td>demande à djingo pro de renvoyer les appels</td>\n",
       "      <td>1</td>\n",
       "      <td>demande djingo pro renvoyer appels</td>\n",
       "    </tr>\n",
       "    <tr>\n",
       "      <td>2</td>\n",
       "      <td>de renvoyer les appels</td>\n",
       "      <td>1</td>\n",
       "      <td>renvoyer appels</td>\n",
       "    </tr>\n",
       "    <tr>\n",
       "      <td>3</td>\n",
       "      <td>aide moi à renvoyer mes appels</td>\n",
       "      <td>1</td>\n",
       "      <td>aide renvoyer appels</td>\n",
       "    </tr>\n",
       "    <tr>\n",
       "      <td>4</td>\n",
       "      <td>je veux renvoyer mes appels</td>\n",
       "      <td>1</td>\n",
       "      <td>veux renvoyer appels</td>\n",
       "    </tr>\n",
       "  </tbody>\n",
       "</table>\n",
       "</div>"
      ],
      "text/plain": [
       "                                       phrases  class  \\\n",
       "0                    activer un renvoi d'appel      1   \n",
       "1  demande à djingo pro de renvoyer les appels      1   \n",
       "2                       de renvoyer les appels      1   \n",
       "3               aide moi à renvoyer mes appels      1   \n",
       "4                  je veux renvoyer mes appels      1   \n",
       "\n",
       "              phrases_sans_stop_words  \n",
       "0              activer renvoi d'appel  \n",
       "1  demande djingo pro renvoyer appels  \n",
       "2                     renvoyer appels  \n",
       "3                aide renvoyer appels  \n",
       "4                veux renvoyer appels  "
      ]
     },
     "execution_count": 87,
     "metadata": {},
     "output_type": "execute_result"
    }
   ],
   "source": [
    "df_intents.head()"
   ]
  },
  {
   "cell_type": "code",
   "execution_count": 54,
   "metadata": {},
   "outputs": [
    {
     "name": "stdout",
     "output_type": "stream",
     "text": [
      "['renvoi', 'les', 'appels']\n"
     ]
    },
    {
     "data": {
      "text/plain": [
       "['renvoi', 'le', 'appels']"
      ]
     },
     "execution_count": 54,
     "metadata": {},
     "output_type": "execute_result"
    }
   ],
   "source": [
    "#exemple sur une phrase \n",
    "lemma = WordNetLemmatizer()\n",
    "text_tokenizer = word_tokenize('renvoi les appels')\n",
    "print(text_tokenizer)\n",
    "[lemma.lemmatize(word) for word in text_tokenizer]\n"
   ]
  },
  {
   "cell_type": "code",
   "execution_count": 62,
   "metadata": {},
   "outputs": [],
   "source": [
    "tokenizer = nltk.tokenize .WhitespaceTokenizer()"
   ]
  },
  {
   "cell_type": "code",
   "execution_count": 82,
   "metadata": {},
   "outputs": [],
   "source": [
    "#normalement on doit lemmatizer mais pas dispo en français avec nltk (voir avec spacy)\n",
    "def lemmatize_phrases(phrases):\n",
    "    return [lemma.lemmatize(word) for word in text_tokenizer]"
   ]
  },
  {
   "cell_type": "code",
   "execution_count": 129,
   "metadata": {},
   "outputs": [],
   "source": [
    "#sinon on fait un stemmer \n",
    "def steammer_phrase(phrases):\n",
    "    \n",
    "    stemmer = FrenchStemmer()\n",
    "    tokens = word_tokenize(phrases)\n",
    "    tokens = [stemmer.stem(word) for word in tokens]\n",
    "    return ' '.join(tokens)"
   ]
  },
  {
   "cell_type": "code",
   "execution_count": 103,
   "metadata": {},
   "outputs": [],
   "source": [
    "df_intents['stemmed_phrases'] = df_intents['phrases_sans_stop_words'].apply(lambda phrases: steammer(phrases))"
   ]
  },
  {
   "cell_type": "code",
   "execution_count": 104,
   "metadata": {},
   "outputs": [
    {
     "data": {
      "text/html": [
       "<div>\n",
       "<style scoped>\n",
       "    .dataframe tbody tr th:only-of-type {\n",
       "        vertical-align: middle;\n",
       "    }\n",
       "\n",
       "    .dataframe tbody tr th {\n",
       "        vertical-align: top;\n",
       "    }\n",
       "\n",
       "    .dataframe thead th {\n",
       "        text-align: right;\n",
       "    }\n",
       "</style>\n",
       "<table border=\"1\" class=\"dataframe\">\n",
       "  <thead>\n",
       "    <tr style=\"text-align: right;\">\n",
       "      <th></th>\n",
       "      <th>phrases</th>\n",
       "      <th>class</th>\n",
       "      <th>phrases_sans_stop_words</th>\n",
       "      <th>stemmed_phrases</th>\n",
       "    </tr>\n",
       "  </thead>\n",
       "  <tbody>\n",
       "    <tr>\n",
       "      <td>0</td>\n",
       "      <td>activer un renvoi d'appel</td>\n",
       "      <td>1</td>\n",
       "      <td>activer renvoi d'appel</td>\n",
       "      <td>activ renvoi d'appel</td>\n",
       "    </tr>\n",
       "    <tr>\n",
       "      <td>1</td>\n",
       "      <td>demande à djingo pro de renvoyer les appels</td>\n",
       "      <td>1</td>\n",
       "      <td>demande djingo pro renvoyer appels</td>\n",
       "      <td>demand djingo pro renvoi appel</td>\n",
       "    </tr>\n",
       "    <tr>\n",
       "      <td>2</td>\n",
       "      <td>de renvoyer les appels</td>\n",
       "      <td>1</td>\n",
       "      <td>renvoyer appels</td>\n",
       "      <td>renvoi appel</td>\n",
       "    </tr>\n",
       "    <tr>\n",
       "      <td>3</td>\n",
       "      <td>aide moi à renvoyer mes appels</td>\n",
       "      <td>1</td>\n",
       "      <td>aide renvoyer appels</td>\n",
       "      <td>aid renvoi appel</td>\n",
       "    </tr>\n",
       "    <tr>\n",
       "      <td>4</td>\n",
       "      <td>je veux renvoyer mes appels</td>\n",
       "      <td>1</td>\n",
       "      <td>veux renvoyer appels</td>\n",
       "      <td>veux renvoi appel</td>\n",
       "    </tr>\n",
       "  </tbody>\n",
       "</table>\n",
       "</div>"
      ],
      "text/plain": [
       "                                       phrases  class  \\\n",
       "0                    activer un renvoi d'appel      1   \n",
       "1  demande à djingo pro de renvoyer les appels      1   \n",
       "2                       de renvoyer les appels      1   \n",
       "3               aide moi à renvoyer mes appels      1   \n",
       "4                  je veux renvoyer mes appels      1   \n",
       "\n",
       "              phrases_sans_stop_words                 stemmed_phrases  \n",
       "0              activer renvoi d'appel            activ renvoi d'appel  \n",
       "1  demande djingo pro renvoyer appels  demand djingo pro renvoi appel  \n",
       "2                     renvoyer appels                    renvoi appel  \n",
       "3                aide renvoyer appels                aid renvoi appel  \n",
       "4                veux renvoyer appels               veux renvoi appel  "
      ]
     },
     "execution_count": 104,
     "metadata": {},
     "output_type": "execute_result"
    }
   ],
   "source": [
    "df_intents.head()"
   ]
  },
  {
   "cell_type": "markdown",
   "metadata": {},
   "source": [
    "## TFIDF"
   ]
  },
  {
   "cell_type": "markdown",
   "metadata": {},
   "source": [
    "\n",
    "le TFIDF est une approche bag-of-words (bow) permettant de représenter les mots d’un document à l’aide d’une matrice de nombres. Le terme bow signifie que l’ordre des mots dans la phrase n’est pas pris en compte, contrairement à des approches plus poussées de Deep Learning (word embeddings : word2vec, GLoVE). Néanmoins, TFIDF est une méthode efficace utilisée dans de nombreux outils de querying puisqu’elle donne de l’importance aux mots qui apparaissent de temps en temps mais pas trop, tout en en limitant l’importance des mots qui apparaissent souvent."
   ]
  },
  {
   "cell_type": "markdown",
   "metadata": {},
   "source": [
    "TFIDF: Cette mesure statistique permet d'évaluer l'importance d'un terme contenu dans un document, relativement à une collection ou un corpus.Le poids augmente proportionnellement au nombre d'occurrences du mot dans le document. \n",
    "\n",
    "Term Frequency : Frequence du terme dans le document mot/tous les mots\n",
    "\n",
    "Inverse document Frequency: \n",
    "TFIDF = Term Frequency * Inverse document frequency : log(doc/nbre de doc dans lequel apparait le terme)\n",
    "\n",
    "\n",
    "\n"
   ]
  },
  {
   "cell_type": "code",
   "execution_count": 133,
   "metadata": {},
   "outputs": [],
   "source": [
    "vect = TfidfVectorizer()\n",
    "mat_tfidf = vect.fit_transform(df_intents.stemmed_phrases)\n",
    "#print(mat_tfidf)\n",
    "#remmettre la matrice au bon endroit\n",
    "feature_names = vect.get_feature_names()#to get the names of the tokens \n",
    "dense = mat_tfidf.todense() #convert sparse matrix to numpy array\n",
    "denselist= dense.tolist()#convert array to list\n",
    "df_tfidf= pd.DataFrame(denselist, columns = feature_names)#convert to dataframe\n",
    "df_tfidf.head()"
   ]
  },
  {
   "cell_type": "markdown",
   "metadata": {},
   "source": [
    "## Support vector Machine"
   ]
  },
  {
   "cell_type": "code",
   "execution_count": 121,
   "metadata": {},
   "outputs": [
    {
     "name": "stdout",
     "output_type": "stream",
     "text": [
      "19 9 19 9\n",
      "[[4 0 0]\n",
      " [0 4 0]\n",
      " [0 0 1]]\n",
      "1.0\n"
     ]
    }
   ],
   "source": [
    "from sklearn.svm import SVC\n",
    "from sklearn.metrics import confusion_matrix, f1_score, accuracy_score\n",
    "#create separate object for target variable \n",
    "\n",
    "#split test train set\n",
    "X_train, X_test, y_train,y_test = train_test_split(df_tfidf, df_intents['class'], test_size = 0.3)\n",
    "print(len(X_train), len(X_test), len(y_train), len(y_test))\n",
    "clf = LinearSVC()\n",
    "clf.fit(X_train,y_train)\n",
    "y_pred = clf.predict(X_test)\n",
    "#confusion matrice\n",
    "cm = confusion_matrix(y_test,y_pred)\n",
    "print(cm)\n",
    "#accuracy \n",
    "acc = accuracy_score(y_test,y_pred)\n",
    "print(acc)\n"
   ]
  },
  {
   "cell_type": "code",
   "execution_count": 135,
   "metadata": {},
   "outputs": [
    {
     "ename": "ValueError",
     "evalue": "Iterable over raw text documents expected, string object received.",
     "output_type": "error",
     "traceback": [
      "\u001b[1;31m---------------------------------------------------------------------------\u001b[0m",
      "\u001b[1;31mValueError\u001b[0m                                Traceback (most recent call last)",
      "\u001b[1;32m<ipython-input-135-1b9677bc3e23>\u001b[0m in \u001b[0;36m<module>\u001b[1;34m\u001b[0m\n\u001b[0;32m      2\u001b[0m \u001b[0mtruc\u001b[0m \u001b[1;33m=\u001b[0m \u001b[0msteammer_phrase\u001b[0m\u001b[1;33m(\u001b[0m\u001b[0mnouvelle_phrase\u001b[0m\u001b[1;33m)\u001b[0m\u001b[1;33m\u001b[0m\u001b[1;33m\u001b[0m\u001b[0m\n\u001b[0;32m      3\u001b[0m \u001b[1;31m#print(truc)\u001b[0m\u001b[1;33m\u001b[0m\u001b[1;33m\u001b[0m\u001b[1;33m\u001b[0m\u001b[0m\n\u001b[1;32m----> 4\u001b[1;33m \u001b[0mtfidf_phrase\u001b[0m\u001b[1;33m=\u001b[0m \u001b[0mvect\u001b[0m\u001b[1;33m.\u001b[0m\u001b[0mfit_transform\u001b[0m\u001b[1;33m(\u001b[0m\u001b[0mnouvelle_phrase\u001b[0m\u001b[1;33m)\u001b[0m\u001b[1;33m\u001b[0m\u001b[1;33m\u001b[0m\u001b[0m\n\u001b[0m",
      "\u001b[1;32mC:\\ProgramData\\Anaconda3\\lib\\site-packages\\sklearn\\feature_extraction\\text.py\u001b[0m in \u001b[0;36mfit_transform\u001b[1;34m(self, raw_documents, y)\u001b[0m\n\u001b[0;32m   1650\u001b[0m         \"\"\"\n\u001b[0;32m   1651\u001b[0m         \u001b[0mself\u001b[0m\u001b[1;33m.\u001b[0m\u001b[0m_check_params\u001b[0m\u001b[1;33m(\u001b[0m\u001b[1;33m)\u001b[0m\u001b[1;33m\u001b[0m\u001b[1;33m\u001b[0m\u001b[0m\n\u001b[1;32m-> 1652\u001b[1;33m         \u001b[0mX\u001b[0m \u001b[1;33m=\u001b[0m \u001b[0msuper\u001b[0m\u001b[1;33m(\u001b[0m\u001b[1;33m)\u001b[0m\u001b[1;33m.\u001b[0m\u001b[0mfit_transform\u001b[0m\u001b[1;33m(\u001b[0m\u001b[0mraw_documents\u001b[0m\u001b[1;33m)\u001b[0m\u001b[1;33m\u001b[0m\u001b[1;33m\u001b[0m\u001b[0m\n\u001b[0m\u001b[0;32m   1653\u001b[0m         \u001b[0mself\u001b[0m\u001b[1;33m.\u001b[0m\u001b[0m_tfidf\u001b[0m\u001b[1;33m.\u001b[0m\u001b[0mfit\u001b[0m\u001b[1;33m(\u001b[0m\u001b[0mX\u001b[0m\u001b[1;33m)\u001b[0m\u001b[1;33m\u001b[0m\u001b[1;33m\u001b[0m\u001b[0m\n\u001b[0;32m   1654\u001b[0m         \u001b[1;31m# X is already a transformed view of raw_documents so\u001b[0m\u001b[1;33m\u001b[0m\u001b[1;33m\u001b[0m\u001b[1;33m\u001b[0m\u001b[0m\n",
      "\u001b[1;32mC:\\ProgramData\\Anaconda3\\lib\\site-packages\\sklearn\\feature_extraction\\text.py\u001b[0m in \u001b[0;36mfit_transform\u001b[1;34m(self, raw_documents, y)\u001b[0m\n\u001b[0;32m   1046\u001b[0m         \u001b[1;32mif\u001b[0m \u001b[0misinstance\u001b[0m\u001b[1;33m(\u001b[0m\u001b[0mraw_documents\u001b[0m\u001b[1;33m,\u001b[0m \u001b[0mstr\u001b[0m\u001b[1;33m)\u001b[0m\u001b[1;33m:\u001b[0m\u001b[1;33m\u001b[0m\u001b[1;33m\u001b[0m\u001b[0m\n\u001b[0;32m   1047\u001b[0m             raise ValueError(\n\u001b[1;32m-> 1048\u001b[1;33m                 \u001b[1;34m\"Iterable over raw text documents expected, \"\u001b[0m\u001b[1;33m\u001b[0m\u001b[1;33m\u001b[0m\u001b[0m\n\u001b[0m\u001b[0;32m   1049\u001b[0m                 \"string object received.\")\n\u001b[0;32m   1050\u001b[0m \u001b[1;33m\u001b[0m\u001b[0m\n",
      "\u001b[1;31mValueError\u001b[0m: Iterable over raw text documents expected, string object received."
     ]
    }
   ],
   "source": [
    "nouvelle_phrase = 'je veux renvoyer mes appels'\n",
    "truc = steammer_phrase(nouvelle_phrase)\n",
    "#print(truc)\n",
    "tfidf_phrase= vect.fit_transform(nouvelle_phrase)"
   ]
  },
  {
   "cell_type": "code",
   "execution_count": null,
   "metadata": {},
   "outputs": [],
   "source": []
  }
 ],
 "metadata": {
  "kernelspec": {
   "display_name": "Python 3",
   "language": "python",
   "name": "python3"
  },
  "language_info": {
   "codemirror_mode": {
    "name": "ipython",
    "version": 3
   },
   "file_extension": ".py",
   "mimetype": "text/x-python",
   "name": "python",
   "nbconvert_exporter": "python",
   "pygments_lexer": "ipython3",
   "version": "3.7.4"
  }
 },
 "nbformat": 4,
 "nbformat_minor": 2
}
