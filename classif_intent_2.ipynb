{
 "cells": [
  {
   "cell_type": "markdown",
   "metadata": {},
   "source": [
    "# Import des librairies"
   ]
  },
  {
   "cell_type": "code",
   "execution_count": 1,
   "metadata": {},
   "outputs": [
    {
     "name": "stderr",
     "output_type": "stream",
     "text": [
      "[nltk_data] Downloading package punkt to\n",
      "[nltk_data]     C:\\Users\\gbjs0748\\AppData\\Roaming\\nltk_data...\n",
      "[nltk_data]   Package punkt is already up-to-date!\n",
      "[nltk_data] Downloading package stopwords to\n",
      "[nltk_data]     C:\\Users\\gbjs0748\\AppData\\Roaming\\nltk_data...\n",
      "[nltk_data]   Package stopwords is already up-to-date!\n",
      "[nltk_data] Downloading package wordnet to\n",
      "[nltk_data]     C:\\Users\\gbjs0748\\AppData\\Roaming\\nltk_data...\n",
      "[nltk_data]   Package wordnet is already up-to-date!\n"
     ]
    },
    {
     "data": {
      "text/plain": [
       "True"
      ]
     },
     "execution_count": 1,
     "metadata": {},
     "output_type": "execute_result"
    }
   ],
   "source": [
    "#librairie pour lire les données\n",
    "import pandas as pd\n",
    "\n",
    "#librairie pour machine learning\n",
    "\n",
    "#permet de faire le tfidf\n",
    "from sklearn.feature_extraction.text import TfidfVectorizer\n",
    "from sklearn.feature_extraction.text import CountVectorizer\n",
    "from sklearn.feature_extraction.text import TfidfTransformer\n",
    "#permet de separer les données en données d'entrainement et de test\n",
    "from sklearn.model_selection import train_test_split\n",
    "#algos\n",
    "from sklearn.svm import LinearSVC\n",
    "from sklearn.linear_model import LogisticRegression\n",
    "#permet d'encapsuler les étapes d'entrainement de l'algo\n",
    "from sklearn.pipeline import Pipeline\n",
    "#les mesures des performances de l'algo\n",
    "from sklearn.metrics import confusion_matrix, f1_score, accuracy_score\n",
    "\n",
    "#librairie for nlp\n",
    "import nltk\n",
    "from nltk.stem import WordNetLemmatizer\n",
    "from nltk import word_tokenize\n",
    "from nltk.corpus import stopwords\n",
    "from nltk.stem.snowball import FrenchStemmer\n",
    "nltk.download('punkt')\n",
    "nltk.download('stopwords')\n",
    "nltk.download('wordnet')"
   ]
  },
  {
   "cell_type": "markdown",
   "metadata": {},
   "source": [
    "## Travail sur les données "
   ]
  },
  {
   "cell_type": "code",
   "execution_count": 2,
   "metadata": {},
   "outputs": [
    {
     "data": {
      "text/html": [
       "<div>\n",
       "<style scoped>\n",
       "    .dataframe tbody tr th:only-of-type {\n",
       "        vertical-align: middle;\n",
       "    }\n",
       "\n",
       "    .dataframe tbody tr th {\n",
       "        vertical-align: top;\n",
       "    }\n",
       "\n",
       "    .dataframe thead th {\n",
       "        text-align: right;\n",
       "    }\n",
       "</style>\n",
       "<table border=\"1\" class=\"dataframe\">\n",
       "  <thead>\n",
       "    <tr style=\"text-align: right;\">\n",
       "      <th></th>\n",
       "      <th>phrases</th>\n",
       "      <th>intention</th>\n",
       "      <th>class</th>\n",
       "    </tr>\n",
       "  </thead>\n",
       "  <tbody>\n",
       "    <tr>\n",
       "      <td>0</td>\n",
       "      <td>activer un renvoi d'appel</td>\n",
       "      <td>renvoi d'appel</td>\n",
       "      <td>1</td>\n",
       "    </tr>\n",
       "    <tr>\n",
       "      <td>1</td>\n",
       "      <td>demande à djingo pro de renvoyer les appels</td>\n",
       "      <td>renvoi d'appel</td>\n",
       "      <td>1</td>\n",
       "    </tr>\n",
       "    <tr>\n",
       "      <td>2</td>\n",
       "      <td>de renvoyer les appels</td>\n",
       "      <td>renvoi d'appel</td>\n",
       "      <td>1</td>\n",
       "    </tr>\n",
       "    <tr>\n",
       "      <td>3</td>\n",
       "      <td>aide moi à renvoyer mes appels</td>\n",
       "      <td>renvoi d'appel</td>\n",
       "      <td>1</td>\n",
       "    </tr>\n",
       "    <tr>\n",
       "      <td>4</td>\n",
       "      <td>je veux renvoyer mes appels</td>\n",
       "      <td>renvoi d'appel</td>\n",
       "      <td>1</td>\n",
       "    </tr>\n",
       "  </tbody>\n",
       "</table>\n",
       "</div>"
      ],
      "text/plain": [
       "                                       phrases       intention  class\n",
       "0                    activer un renvoi d'appel  renvoi d'appel      1\n",
       "1  demande à djingo pro de renvoyer les appels  renvoi d'appel      1\n",
       "2                       de renvoyer les appels  renvoi d'appel      1\n",
       "3               aide moi à renvoyer mes appels  renvoi d'appel      1\n",
       "4                  je veux renvoyer mes appels  renvoi d'appel      1"
      ]
     },
     "execution_count": 2,
     "metadata": {},
     "output_type": "execute_result"
    }
   ],
   "source": [
    "#lire le dataset\n",
    "df = pd.read_csv('intent.csv',encoding= 'latin1',sep=';')\n",
    "df.head()"
   ]
  },
  {
   "cell_type": "code",
   "execution_count": 3,
   "metadata": {},
   "outputs": [],
   "source": [
    "#je fais un nouveau tableau avec lequel je vais travailler\n",
    "df_intents = df[['phrases','class']]"
   ]
  },
  {
   "cell_type": "code",
   "execution_count": 4,
   "metadata": {},
   "outputs": [],
   "source": [
    "#enlève les accents et les apstrophes\n",
    "\n",
    "phrases = df_intents.phrases\n",
    "phrases = phrases.str.replace('[^A-z]',' ').str.replace(' +', ' ').str.strip()\n",
    "#print(phrases)"
   ]
  },
  {
   "cell_type": "code",
   "execution_count": 5,
   "metadata": {},
   "outputs": [],
   "source": [
    "#j'enlève les stop words\n",
    "stopW = stopwords.words('french')\n",
    "#print(stopW)\n",
    "#exclude stopswords\n",
    "df_intents['phrases_sans_stop_words'] = df_intents['phrases'].apply(lambda x: ' '.join([word for word in x.split() if word not in (stopW)]))"
   ]
  },
  {
   "cell_type": "code",
   "execution_count": 6,
   "metadata": {},
   "outputs": [
    {
     "data": {
      "text/html": [
       "<div>\n",
       "<style scoped>\n",
       "    .dataframe tbody tr th:only-of-type {\n",
       "        vertical-align: middle;\n",
       "    }\n",
       "\n",
       "    .dataframe tbody tr th {\n",
       "        vertical-align: top;\n",
       "    }\n",
       "\n",
       "    .dataframe thead th {\n",
       "        text-align: right;\n",
       "    }\n",
       "</style>\n",
       "<table border=\"1\" class=\"dataframe\">\n",
       "  <thead>\n",
       "    <tr style=\"text-align: right;\">\n",
       "      <th></th>\n",
       "      <th>phrases</th>\n",
       "      <th>class</th>\n",
       "      <th>phrases_sans_stop_words</th>\n",
       "    </tr>\n",
       "  </thead>\n",
       "  <tbody>\n",
       "    <tr>\n",
       "      <td>0</td>\n",
       "      <td>activer un renvoi d'appel</td>\n",
       "      <td>1</td>\n",
       "      <td>activer renvoi d'appel</td>\n",
       "    </tr>\n",
       "    <tr>\n",
       "      <td>1</td>\n",
       "      <td>demande à djingo pro de renvoyer les appels</td>\n",
       "      <td>1</td>\n",
       "      <td>demande djingo pro renvoyer appels</td>\n",
       "    </tr>\n",
       "    <tr>\n",
       "      <td>2</td>\n",
       "      <td>de renvoyer les appels</td>\n",
       "      <td>1</td>\n",
       "      <td>renvoyer appels</td>\n",
       "    </tr>\n",
       "    <tr>\n",
       "      <td>3</td>\n",
       "      <td>aide moi à renvoyer mes appels</td>\n",
       "      <td>1</td>\n",
       "      <td>aide renvoyer appels</td>\n",
       "    </tr>\n",
       "    <tr>\n",
       "      <td>4</td>\n",
       "      <td>je veux renvoyer mes appels</td>\n",
       "      <td>1</td>\n",
       "      <td>veux renvoyer appels</td>\n",
       "    </tr>\n",
       "  </tbody>\n",
       "</table>\n",
       "</div>"
      ],
      "text/plain": [
       "                                       phrases  class  \\\n",
       "0                    activer un renvoi d'appel      1   \n",
       "1  demande à djingo pro de renvoyer les appels      1   \n",
       "2                       de renvoyer les appels      1   \n",
       "3               aide moi à renvoyer mes appels      1   \n",
       "4                  je veux renvoyer mes appels      1   \n",
       "\n",
       "              phrases_sans_stop_words  \n",
       "0              activer renvoi d'appel  \n",
       "1  demande djingo pro renvoyer appels  \n",
       "2                     renvoyer appels  \n",
       "3                aide renvoyer appels  \n",
       "4                veux renvoyer appels  "
      ]
     },
     "execution_count": 6,
     "metadata": {},
     "output_type": "execute_result"
    }
   ],
   "source": [
    "df_intents.head()"
   ]
  },
  {
   "cell_type": "code",
   "execution_count": 7,
   "metadata": {},
   "outputs": [],
   "source": [
    "# on fait un stemmer : stemmer permet de ne garder que la racine d'un mot\n",
    "def steammer_phrase(phrases):\n",
    "    \n",
    "    stemmer = FrenchStemmer()\n",
    "    tokens = word_tokenize(phrases)\n",
    "    tokens = [stemmer.stem(word) for word in tokens]\n",
    "    return ' '.join(tokens)"
   ]
  },
  {
   "cell_type": "code",
   "execution_count": 8,
   "metadata": {},
   "outputs": [],
   "source": [
    "#on ajoute une colonne de phrases que l'on a stemmé\n",
    "df_intents['stemmed_phrases'] = df_intents['phrases_sans_stop_words'].apply(lambda phrases: steammer_phrase(phrases))"
   ]
  },
  {
   "cell_type": "code",
   "execution_count": 9,
   "metadata": {},
   "outputs": [
    {
     "data": {
      "text/html": [
       "<div>\n",
       "<style scoped>\n",
       "    .dataframe tbody tr th:only-of-type {\n",
       "        vertical-align: middle;\n",
       "    }\n",
       "\n",
       "    .dataframe tbody tr th {\n",
       "        vertical-align: top;\n",
       "    }\n",
       "\n",
       "    .dataframe thead th {\n",
       "        text-align: right;\n",
       "    }\n",
       "</style>\n",
       "<table border=\"1\" class=\"dataframe\">\n",
       "  <thead>\n",
       "    <tr style=\"text-align: right;\">\n",
       "      <th></th>\n",
       "      <th>phrases</th>\n",
       "      <th>class</th>\n",
       "      <th>phrases_sans_stop_words</th>\n",
       "      <th>stemmed_phrases</th>\n",
       "    </tr>\n",
       "  </thead>\n",
       "  <tbody>\n",
       "    <tr>\n",
       "      <td>0</td>\n",
       "      <td>activer un renvoi d'appel</td>\n",
       "      <td>1</td>\n",
       "      <td>activer renvoi d'appel</td>\n",
       "      <td>activ renvoi d'appel</td>\n",
       "    </tr>\n",
       "    <tr>\n",
       "      <td>1</td>\n",
       "      <td>demande à djingo pro de renvoyer les appels</td>\n",
       "      <td>1</td>\n",
       "      <td>demande djingo pro renvoyer appels</td>\n",
       "      <td>demand djingo pro renvoi appel</td>\n",
       "    </tr>\n",
       "    <tr>\n",
       "      <td>2</td>\n",
       "      <td>de renvoyer les appels</td>\n",
       "      <td>1</td>\n",
       "      <td>renvoyer appels</td>\n",
       "      <td>renvoi appel</td>\n",
       "    </tr>\n",
       "    <tr>\n",
       "      <td>3</td>\n",
       "      <td>aide moi à renvoyer mes appels</td>\n",
       "      <td>1</td>\n",
       "      <td>aide renvoyer appels</td>\n",
       "      <td>aid renvoi appel</td>\n",
       "    </tr>\n",
       "    <tr>\n",
       "      <td>4</td>\n",
       "      <td>je veux renvoyer mes appels</td>\n",
       "      <td>1</td>\n",
       "      <td>veux renvoyer appels</td>\n",
       "      <td>veux renvoi appel</td>\n",
       "    </tr>\n",
       "  </tbody>\n",
       "</table>\n",
       "</div>"
      ],
      "text/plain": [
       "                                       phrases  class  \\\n",
       "0                    activer un renvoi d'appel      1   \n",
       "1  demande à djingo pro de renvoyer les appels      1   \n",
       "2                       de renvoyer les appels      1   \n",
       "3               aide moi à renvoyer mes appels      1   \n",
       "4                  je veux renvoyer mes appels      1   \n",
       "\n",
       "              phrases_sans_stop_words                 stemmed_phrases  \n",
       "0              activer renvoi d'appel            activ renvoi d'appel  \n",
       "1  demande djingo pro renvoyer appels  demand djingo pro renvoi appel  \n",
       "2                     renvoyer appels                    renvoi appel  \n",
       "3                aide renvoyer appels                aid renvoi appel  \n",
       "4                veux renvoyer appels               veux renvoi appel  "
      ]
     },
     "execution_count": 9,
     "metadata": {},
     "output_type": "execute_result"
    }
   ],
   "source": [
    "df_intents.head()"
   ]
  },
  {
   "cell_type": "markdown",
   "metadata": {},
   "source": [
    "## Transformation des données en vecteur "
   ]
  },
  {
   "cell_type": "markdown",
   "metadata": {},
   "source": [
    "## TFIDF\n",
    "\n",
    "le TFIDF est une approche bag-of-words (bow) permettant de représenter les mots d’un document à l’aide d’une matrice de nombres. Le terme bow signifie que l’ordre des mots dans la phrase n’est pas pris en compte, contrairement à des approches plus poussées de Deep Learning (word embeddings : word2vec, GLoVE). Néanmoins, TFIDF est une méthode efficace utilisée dans de nombreux outils de querying puisqu’elle donne de l’importance aux mots qui apparaissent de temps en temps mais pas trop, tout en en limitant l’importance des mots qui apparaissent souvent."
   ]
  },
  {
   "cell_type": "markdown",
   "metadata": {},
   "source": [
    "TFIDF: Cette mesure statistique permet d'évaluer l'importance d'un terme contenu dans un document, relativement à une collection ou un corpus.Le poids augmente proportionnellement au nombre d'occurrences du mot dans le document. \n",
    "Term Frequency : Frequence du terme dans le document mot/tous les mots\n",
    "Inverse document Frequency: TFIDF = Term Frequency * Inverse document frequency : log(doc/nbre de doc dans lequel apparait le terme)"
   ]
  },
  {
   "cell_type": "markdown",
   "metadata": {},
   "source": [
    "## On utilise un pipeline de l'algo logistic regression\n",
    "\n",
    "Le pipeline va transformer le texte en vecteur et appliquer une regression logistique aux données"
   ]
  },
  {
   "cell_type": "code",
   "execution_count": 23,
   "metadata": {},
   "outputs": [],
   "source": [
    "#un pipeline avec une logistic regression\n",
    "tfidf_vectorizer = TfidfVectorizer()\n",
    "lr = LogisticRegression()\n",
    "tfidf_lr_pipe = Pipeline([('tfidf', tfidf_vectorizer), ('lr',lr)])\n",
    "\n"
   ]
  },
  {
   "cell_type": "code",
   "execution_count": 24,
   "metadata": {},
   "outputs": [],
   "source": [
    "# definir le Xtrain et le y_train \n",
    "X_train, X_test, y_train, y_test = train_test_split(df_intents['stemmed_phrases'], df_intents['class'], test_size = 0.3)"
   ]
  },
  {
   "cell_type": "code",
   "execution_count": 12,
   "metadata": {},
   "outputs": [],
   "source": [
    "#print(X_train)\n",
    "#print(y_train)\n",
    "#print(X_test)"
   ]
  },
  {
   "cell_type": "code",
   "execution_count": 25,
   "metadata": {},
   "outputs": [
    {
     "name": "stderr",
     "output_type": "stream",
     "text": [
      "C:\\ProgramData\\Anaconda3\\lib\\site-packages\\sklearn\\linear_model\\logistic.py:432: FutureWarning: Default solver will be changed to 'lbfgs' in 0.22. Specify a solver to silence this warning.\n",
      "  FutureWarning)\n",
      "C:\\ProgramData\\Anaconda3\\lib\\site-packages\\sklearn\\linear_model\\logistic.py:469: FutureWarning: Default multi_class will be changed to 'auto' in 0.22. Specify the multi_class option to silence this warning.\n",
      "  \"this warning.\", FutureWarning)\n"
     ]
    },
    {
     "data": {
      "text/plain": [
       "Pipeline(memory=None,\n",
       "         steps=[('tfidf',\n",
       "                 TfidfVectorizer(analyzer='word', binary=False,\n",
       "                                 decode_error='strict',\n",
       "                                 dtype=<class 'numpy.float64'>,\n",
       "                                 encoding='utf-8', input='content',\n",
       "                                 lowercase=True, max_df=1.0, max_features=None,\n",
       "                                 min_df=1, ngram_range=(1, 1), norm='l2',\n",
       "                                 preprocessor=None, smooth_idf=True,\n",
       "                                 stop_words=None, strip_accents=None,\n",
       "                                 sublinear_tf=False,\n",
       "                                 token_pattern='(?u)\\\\b\\\\w\\\\w+\\\\b',\n",
       "                                 tokenizer=None, use_idf=True,\n",
       "                                 vocabulary=None)),\n",
       "                ('lr',\n",
       "                 LogisticRegression(C=1.0, class_weight=None, dual=False,\n",
       "                                    fit_intercept=True, intercept_scaling=1,\n",
       "                                    l1_ratio=None, max_iter=100,\n",
       "                                    multi_class='warn', n_jobs=None,\n",
       "                                    penalty='l2', random_state=None,\n",
       "                                    solver='warn', tol=0.0001, verbose=0,\n",
       "                                    warm_start=False))],\n",
       "         verbose=False)"
      ]
     },
     "execution_count": 25,
     "metadata": {},
     "output_type": "execute_result"
    }
   ],
   "source": [
    "tfidf_lr_pipe.fit(X_train, y_train)"
   ]
  },
  {
   "cell_type": "code",
   "execution_count": 26,
   "metadata": {},
   "outputs": [],
   "source": [
    "y_pred = tfidf_lr_pipe.predict(X_test)"
   ]
  },
  {
   "cell_type": "code",
   "execution_count": 27,
   "metadata": {},
   "outputs": [],
   "source": [
    "#l'accuracy du model\n",
    "acc = accuracy_score(y_test,y_pred)"
   ]
  },
  {
   "cell_type": "code",
   "execution_count": 28,
   "metadata": {},
   "outputs": [
    {
     "name": "stdout",
     "output_type": "stream",
     "text": [
      "0.8888888888888888\n"
     ]
    }
   ],
   "source": [
    "print(acc)"
   ]
  },
  {
   "cell_type": "code",
   "execution_count": 29,
   "metadata": {},
   "outputs": [
    {
     "name": "stdout",
     "output_type": "stream",
     "text": [
      "[[2 0 0]\n",
      " [0 4 0]\n",
      " [1 0 2]]\n"
     ]
    }
   ],
   "source": [
    "#la matrice de confusion\n",
    "cm = confusion_matrix(y_test,y_pred)\n",
    "print(cm)"
   ]
  },
  {
   "cell_type": "code",
   "execution_count": 30,
   "metadata": {},
   "outputs": [
    {
     "name": "stdout",
     "output_type": "stream",
     "text": [
      "[3 2 3 1 1 1 2 2 2]\n"
     ]
    }
   ],
   "source": [
    "print(y_pred)"
   ]
  },
  {
   "cell_type": "code",
   "execution_count": 31,
   "metadata": {},
   "outputs": [],
   "source": [
    "#print(y_test)"
   ]
  },
  {
   "cell_type": "code",
   "execution_count": 32,
   "metadata": {},
   "outputs": [
    {
     "name": "stdout",
     "output_type": "stream",
     "text": [
      "[1]\n"
     ]
    }
   ],
   "source": [
    "#new data  \n",
    "new_X = ['renvoi les appels']\n",
    "result= tfidf_lr_pipe.predict(new_X)\n",
    "print(result)"
   ]
  },
  {
   "cell_type": "code",
   "execution_count": null,
   "metadata": {},
   "outputs": [],
   "source": []
  }
 ],
 "metadata": {
  "kernelspec": {
   "display_name": "Python 3",
   "language": "python",
   "name": "python3"
  },
  "language_info": {
   "codemirror_mode": {
    "name": "ipython",
    "version": 3
   },
   "file_extension": ".py",
   "mimetype": "text/x-python",
   "name": "python",
   "nbconvert_exporter": "python",
   "pygments_lexer": "ipython3",
   "version": "3.7.4"
  }
 },
 "nbformat": 4,
 "nbformat_minor": 2
}
